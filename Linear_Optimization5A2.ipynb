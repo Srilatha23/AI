{
  "nbformat": 4,
  "nbformat_minor": 0,
  "metadata": {
    "colab": {
      "name": "Linear_Optimization5A2.ipynb",
      "provenance": [],
      "authorship_tag": "ABX9TyM/h04GdvmevS7S5RkvQ9Pf",
      "include_colab_link": true
    },
    "kernelspec": {
      "name": "python3",
      "display_name": "Python 3"
    },
    "language_info": {
      "name": "python"
    }
  },
  "cells": [
    {
      "cell_type": "markdown",
      "metadata": {
        "id": "view-in-github",
        "colab_type": "text"
      },
      "source": [
        "<a href=\"https://colab.research.google.com/github/Srilatha23/AI/blob/main/Linear_Optimization5A2.ipynb\" target=\"_parent\"><img src=\"https://colab.research.google.com/assets/colab-badge.svg\" alt=\"Open In Colab\"/></a>"
      ]
    },
    {
      "cell_type": "code",
      "metadata": {
        "colab": {
          "base_uri": "https://localhost:8080/"
        },
        "id": "23vtDS506lqf",
        "outputId": "1461cf8c-ef32-46a6-b372-702abd17ffcf"
      },
      "source": [
        "from scipy.optimize import linprog\n",
        "objective=[-50,-120]                                #objective function matrix\n",
        "A_ieq=[[1,1],[7000,2000],[10,30]]                   #inequality constraints coefficient matrix\n",
        "b_ieq=[110,700000,1200]                             #inequality constraints constant matrix \n",
        "boundary=[(0,float('inf')),(0,float('inf'))]        #limits of a and b(decision variables)\n",
        "optimal=linprog(c=objective,A_ub=A_ieq,b_ub=b_ieq,A_eq=None,b_eq=None,bounds=boundary,method=\"Simplex\")\n",
        "print('Number of hectares in which farmer should cultivate Wheat = ',round(optimal.x[0]))\n",
        "print('Number of hectares in which farmer should cultivate Barley = ',round(optimal.x[1]))\n",
        "print('The optimal solution and the optimal value i.e profit = ',(round(optimal.x[0])*50)+(round(optimal.x[1])*120))"
      ],
      "execution_count": 8,
      "outputs": [
        {
          "output_type": "stream",
          "text": [
            "Number of hectares in which farmer should cultivate Wheat =  98\n",
            "Number of hectares in which farmer should cultivate Barley =  7\n",
            "The optimal solution and the optimal value i.e profit =  5740\n"
          ],
          "name": "stdout"
        }
      ]
    }
  ]
}